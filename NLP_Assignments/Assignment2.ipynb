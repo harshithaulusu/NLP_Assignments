{
 "cells": [
  {
   "cell_type": "markdown",
   "metadata": {},
   "source": [
    "**Question 1.** Write a python program using Textblob in which find out the parts-of-speech(pos) tagging from the following sentence.\n",
    "\n",
    "\"Susie works in a shoeshine shop. Where she shines she sits, and where she sits she shines\"\n"
   ]
  },
  {
   "cell_type": "code",
   "execution_count": 1,
   "metadata": {
    "scrolled": true
   },
   "outputs": [
    {
     "name": "stdout",
     "output_type": "stream",
     "text": [
      "Requirement already satisfied: textblob in c:\\users\\dell\\anaconda3\\lib\\site-packages (0.15.3)\n",
      "Requirement already satisfied: nltk>=3.1 in c:\\users\\dell\\anaconda3\\lib\\site-packages (from textblob) (3.4.5)\n",
      "Requirement already satisfied: six in c:\\users\\dell\\anaconda3\\lib\\site-packages (from nltk>=3.1->textblob) (1.14.0)\n",
      "Finished.\n"
     ]
    },
    {
     "name": "stderr",
     "output_type": "stream",
     "text": [
      "[nltk_data] Downloading package brown to\n",
      "[nltk_data]     C:\\Users\\Dell\\AppData\\Roaming\\nltk_data...\n",
      "[nltk_data]   Package brown is already up-to-date!\n",
      "[nltk_data] Downloading package punkt to\n",
      "[nltk_data]     C:\\Users\\Dell\\AppData\\Roaming\\nltk_data...\n",
      "[nltk_data]   Package punkt is already up-to-date!\n",
      "[nltk_data] Downloading package wordnet to\n",
      "[nltk_data]     C:\\Users\\Dell\\AppData\\Roaming\\nltk_data...\n",
      "[nltk_data]   Package wordnet is already up-to-date!\n",
      "[nltk_data] Downloading package averaged_perceptron_tagger to\n",
      "[nltk_data]     C:\\Users\\Dell\\AppData\\Roaming\\nltk_data...\n",
      "[nltk_data]   Package averaged_perceptron_tagger is already up-to-\n",
      "[nltk_data]       date!\n",
      "[nltk_data] Downloading package conll2000 to\n",
      "[nltk_data]     C:\\Users\\Dell\\AppData\\Roaming\\nltk_data...\n",
      "[nltk_data]   Package conll2000 is already up-to-date!\n",
      "[nltk_data] Downloading package movie_reviews to\n",
      "[nltk_data]     C:\\Users\\Dell\\AppData\\Roaming\\nltk_data...\n",
      "[nltk_data]   Package movie_reviews is already up-to-date!\n"
     ]
    }
   ],
   "source": [
    "!pip install textblob\n",
    "!python -m textblob.download_corpora"
   ]
  },
  {
   "cell_type": "code",
   "execution_count": 4,
   "metadata": {},
   "outputs": [
    {
     "data": {
      "text/plain": [
       "[('Susie', 'NNP'),\n",
       " ('works', 'VBZ'),\n",
       " ('in', 'IN'),\n",
       " ('a', 'DT'),\n",
       " ('shoeshine', 'NN'),\n",
       " ('shop', 'NN'),\n",
       " ('Where', 'WRB'),\n",
       " ('she', 'PRP'),\n",
       " ('shines', 'VBZ'),\n",
       " ('she', 'PRP'),\n",
       " ('sits', 'VBZ'),\n",
       " ('and', 'CC'),\n",
       " ('where', 'WRB'),\n",
       " ('she', 'PRP'),\n",
       " ('sits', 'VBZ'),\n",
       " ('she', 'PRP'),\n",
       " ('shines', 'NNS')]"
      ]
     },
     "execution_count": 4,
     "metadata": {},
     "output_type": "execute_result"
    }
   ],
   "source": [
    "from textblob import TextBlob\n",
    "sent1 = TextBlob(\"Susie works in a shoeshine shop. Where she shines she sits, and where she sits she shines\")\n",
    "sent1.tags"
   ]
  },
  {
   "cell_type": "markdown",
   "metadata": {},
   "source": [
    "**Question 2.** Write a python program using the textblob to find out the count of the common words from the following sentence.\n",
    "\n",
    "\"How much wood would a woodchuck chuck if a woodchuck could chuck wood?\n",
    "He would chuck, he would, as much as he could, and chuck as much wood\n",
    "As a woodchuck would if a woodchuck could chuck wood\"\n",
    "Find it out how many times 'wood' came in the sentence."
   ]
  },
  {
   "cell_type": "code",
   "execution_count": 28,
   "metadata": {},
   "outputs": [
    {
     "name": "stdout",
     "output_type": "stream",
     "text": [
      "Five most common words are [('chuck', 5), ('a', 4), ('wood', 4), ('would', 4), ('as', 4)]\n",
      "wood is repeated 4 times in the given sentence.\n"
     ]
    }
   ],
   "source": [
    "from textblob import TextBlob\n",
    "sent2 = TextBlob(\"How much wood would a woodchuck chuck if a woodchuck could chuck wood? He would chuck, he would, as much as he could, and chuck as much wood As a woodchuck would if a woodchuck could chuck wood\")\n",
    "sent2=sent2.lower()\n",
    "words_list = list(set(sent2.words))\n",
    "freq_list = []\n",
    "for i in words_list:\n",
    "    count = sent2.words.count(i)\n",
    "    freq_list.append((i,count))\n",
    "freq_list.sort(key = lambda x: x[1], reverse=True)    \n",
    "# print(\"Frequency list is \",freq_list)\n",
    "print(\"Five most common words are\",freq_list[:5])\n",
    "print('wood is repeated {} times in the given sentence.'.format([i[1] for i in freq_list if i[0]=='wood'][0]))"
   ]
  },
  {
   "cell_type": "markdown",
   "metadata": {},
   "source": [
    "**Question 3.** Translate the following sentences in your own language using the textblob.\n",
    "\n",
    "\"Data is a new oil.\", \"A.I is the last invention\", \"She sells seashells by the seashore\", \"He threw three free throws\"."
   ]
  },
  {
   "cell_type": "code",
   "execution_count": 9,
   "metadata": {},
   "outputs": [
    {
     "name": "stdout",
     "output_type": "stream",
     "text": [
      "Translated list- ['డేటా కొత్త నూనె.', 'A.I చివరి ఆవిష్కరణ', 'ఆమె సముద్ర తీరం ద్వారా సముద్రపు గవ్వలను విక్రయిస్తుంది', 'అతను మూడు ఉచిత త్రోలు విసిరాడు']\n"
     ]
    }
   ],
   "source": [
    "sent_list = [\"Data is a new oil.\", \"A.I is the last invention\", \"She sells seashells by the seashore\", \"He threw three free throws\"]\n",
    "translated_list=[]\n",
    "for i in sent_list:\n",
    "    tb = TextBlob(i)\n",
    "    translated_list.append(str(tb.translate(to='te')))\n",
    "    \n",
    "print(\"Translated list-\",translated_list )\n"
   ]
  },
  {
   "cell_type": "markdown",
   "metadata": {},
   "source": [
    "**Question 4.** Create a spell checker program using the textblob library with using your own sentences."
   ]
  },
  {
   "cell_type": "code",
   "execution_count": 32,
   "metadata": {},
   "outputs": [
    {
     "name": "stdout",
     "output_type": "stream",
     "text": [
      "Enter a sentence:plaese tak cari of yuorslef\n",
      "Corrected sentence is  please take care of yourself \n"
     ]
    }
   ],
   "source": [
    "from textblob import Word\n",
    "sent4 = TextBlob(input(\"Enter a sentence:\"))\n",
    "words = sent4.words\n",
    "correct_words = \"\"\n",
    "for i in words:\n",
    "    word = Word(i)\n",
    "    correct_words+=word.spellcheck()[0][0]\n",
    "    correct_words+=\" \"\n",
    "print(\"Corrected sentence is \",correct_words)"
   ]
  },
  {
   "cell_type": "code",
   "execution_count": null,
   "metadata": {},
   "outputs": [],
   "source": []
  },
  {
   "cell_type": "code",
   "execution_count": null,
   "metadata": {},
   "outputs": [],
   "source": []
  },
  {
   "cell_type": "code",
   "execution_count": null,
   "metadata": {},
   "outputs": [],
   "source": []
  },
  {
   "cell_type": "code",
   "execution_count": null,
   "metadata": {},
   "outputs": [],
   "source": []
  },
  {
   "cell_type": "code",
   "execution_count": null,
   "metadata": {},
   "outputs": [],
   "source": []
  },
  {
   "cell_type": "code",
   "execution_count": null,
   "metadata": {},
   "outputs": [],
   "source": []
  },
  {
   "cell_type": "code",
   "execution_count": null,
   "metadata": {},
   "outputs": [],
   "source": []
  },
  {
   "cell_type": "code",
   "execution_count": null,
   "metadata": {},
   "outputs": [],
   "source": []
  },
  {
   "cell_type": "code",
   "execution_count": null,
   "metadata": {},
   "outputs": [],
   "source": []
  }
 ],
 "metadata": {
  "kernelspec": {
   "display_name": "Python 3",
   "language": "python",
   "name": "python3"
  },
  "language_info": {
   "codemirror_mode": {
    "name": "ipython",
    "version": 3
   },
   "file_extension": ".py",
   "mimetype": "text/x-python",
   "name": "python",
   "nbconvert_exporter": "python",
   "pygments_lexer": "ipython3",
   "version": "3.7.6"
  }
 },
 "nbformat": 4,
 "nbformat_minor": 4
}
